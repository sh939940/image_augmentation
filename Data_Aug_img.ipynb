{
  "nbformat": 4,
  "nbformat_minor": 0,
  "metadata": {
    "colab": {
      "provenance": [],
      "authorship_tag": "ABX9TyPX0eMBoV/ECcOIAEHnbtPe",
      "include_colab_link": true
    },
    "kernelspec": {
      "name": "python3",
      "display_name": "Python 3"
    },
    "language_info": {
      "name": "python"
    }
  },
  "cells": [
    {
      "cell_type": "markdown",
      "metadata": {
        "id": "view-in-github",
        "colab_type": "text"
      },
      "source": [
        "<a href=\"https://colab.research.google.com/github/sh939940/image_augmentation/blob/main/Data_Aug_img.ipynb\" target=\"_parent\"><img src=\"https://colab.research.google.com/assets/colab-badge.svg\" alt=\"Open In Colab\"/></a>"
      ]
    },
    {
      "cell_type": "code",
      "execution_count": 4,
      "metadata": {
        "colab": {
          "base_uri": "https://localhost:8080/"
        },
        "id": "5MkfXLR2Ct9M",
        "outputId": "eebb3be0-2dfa-4e5f-ff45-4340149ee0ea"
      },
      "outputs": [
        {
          "output_type": "stream",
          "name": "stdout",
          "text": [
            "Collecting keras_preprocessing\n",
            "  Downloading Keras_Preprocessing-1.1.2-py2.py3-none-any.whl.metadata (1.9 kB)\n",
            "Requirement already satisfied: numpy>=1.9.1 in /usr/local/lib/python3.11/dist-packages (from keras_preprocessing) (2.0.2)\n",
            "Requirement already satisfied: six>=1.9.0 in /usr/local/lib/python3.11/dist-packages (from keras_preprocessing) (1.17.0)\n",
            "Downloading Keras_Preprocessing-1.1.2-py2.py3-none-any.whl (42 kB)\n",
            "\u001b[?25l   \u001b[90m━━━━━━━━━━━━━━━━━━━━━━━━━━━━━━━━━━━━━━━━\u001b[0m \u001b[32m0.0/42.6 kB\u001b[0m \u001b[31m?\u001b[0m eta \u001b[36m-:--:--\u001b[0m\r\u001b[2K   \u001b[90m━━━━━━━━━━━━━━━━━━━━━━━━━━━━━━━━━━━━━━━━\u001b[0m \u001b[32m42.6/42.6 kB\u001b[0m \u001b[31m2.6 MB/s\u001b[0m eta \u001b[36m0:00:00\u001b[0m\n",
            "\u001b[?25hInstalling collected packages: keras_preprocessing\n",
            "Successfully installed keras_preprocessing-1.1.2\n"
          ]
        }
      ],
      "source": [
        "!pip install keras_preprocessing"
      ]
    },
    {
      "cell_type": "code",
      "source": [
        "#define augmentation parameters\n",
        "\n",
        "from keras_preprocessing.image import ImageDataGenerator,array_to_img, img_to_array, load_img\n",
        "datagen = ImageDataGenerator(\n",
        "        rotation_range=40,\n",
        "        shear_range=0.2,\n",
        "        zoom_range=0.2,\n",
        "        horizontal_flip=True,\n",
        "        brightness_range=(0.5,1.5))\n",
        "#load a sample image\n",
        "img = load_img('/content/sample_data/cats.jpg')\n",
        "\n",
        "#convert the input sample image to an array\n",
        "x = img_to_array(img)\n",
        "\n",
        "#reshape the input image\n",
        "x=x.reshape((1,)+x.shape)\n",
        "\n",
        "# generate and saving augmanted img\n",
        "i =0\n",
        "for batch in datagen.flow(x, batch_size = 1,save_to_dir ='/content/sample_data',save_prefix ='image', save_format ='jpg'):\n",
        "#for batch in datagen.flow(x , batch_size=1 , save_to_dir='/content/sample_data/cats' , save_prefix = 'image' , save_format='jpg'):\n",
        "  i+=1\n",
        "  if i >6:\n",
        "    break\n"
      ],
      "metadata": {
        "id": "h2pWYSwDDtTC"
      },
      "execution_count": 8,
      "outputs": []
    }
  ]
}